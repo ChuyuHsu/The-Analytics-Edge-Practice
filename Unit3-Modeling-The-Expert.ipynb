{
 "cells": [
  {
   "cell_type": "code",
   "execution_count": 23,
   "metadata": {
    "collapsed": false
   },
   "outputs": [],
   "source": [
    "import pandas as pd\n",
    "import numpy as np\n",
    "import statsmodels.formula.api as sm\n",
    "from sklearn.cross_validation import StratifiedShuffleSplit"
   ]
  },
  {
   "cell_type": "code",
   "execution_count": 1,
   "metadata": {
    "collapsed": true
   },
   "outputs": [],
   "source": [
    "seed = 88"
   ]
  },
  {
   "cell_type": "code",
   "execution_count": 5,
   "metadata": {
    "collapsed": true
   },
   "outputs": [],
   "source": [
    "quality = pd.read_csv(\"/Users/zoetsai/Downloads/quality.csv\")"
   ]
  },
  {
   "cell_type": "code",
   "execution_count": 12,
   "metadata": {
    "collapsed": false
   },
   "outputs": [
    {
     "name": "stderr",
     "output_type": "stream",
     "text": [
      "/Users/zoetsai/anaconda3/lib/python3.5/site-packages/ipykernel/__main__.py:4: FutureWarning: convert_objects is deprecated.  Use the data-type specific converters pd.to_datetime, pd.to_timedelta and pd.to_numeric.\n",
      "/Users/zoetsai/anaconda3/lib/python3.5/site-packages/ipykernel/__main__.py:5: FutureWarning: convert_objects is deprecated.  Use the data-type specific converters pd.to_datetime, pd.to_timedelta and pd.to_numeric.\n"
     ]
    }
   ],
   "source": [
    "from sklearn.cross_validation import train_test_split\n",
    "train0, test0 = train_test_split(quality.loc[quality['PoorCare']==0,:], train_size=0.75, random_state=88)\n",
    "train1, test1 = train_test_split(quality.loc[quality['PoorCare']==1,:], train_size=0.75, random_state=88)\n",
    "qualityTrain = pd.DataFrame(np.vstack((train0,train1)), columns=quality.columns).convert_objects(convert_numeric=True)\n",
    "qualityTest = pd.DataFrame(np.vstack((test0,test1)), columns=quality.columns).convert_objects(convert_numeric=True)"
   ]
  },
  {
   "cell_type": "code",
   "execution_count": 18,
   "metadata": {
    "collapsed": false
   },
   "outputs": [
    {
     "data": {
      "text/plain": [
       "Index(['MemberID', 'InpatientDays', 'ERVisits', 'OfficeVisits', 'Narcotics',\n",
       "       'DaysSinceLastERVisit', 'Pain', 'TotalVisits', 'ProviderCount',\n",
       "       'MedicalClaims', 'ClaimLines', 'StartedOnCombination',\n",
       "       'AcuteDrugGapSmall', 'PoorCare', 'Intercept'],\n",
       "      dtype='object')"
      ]
     },
     "execution_count": 18,
     "metadata": {},
     "output_type": "execute_result"
    }
   ],
   "source": [
    "qualityTrain.columns"
   ]
  },
  {
   "cell_type": "code",
   "execution_count": 26,
   "metadata": {
    "collapsed": false
   },
   "outputs": [
    {
     "name": "stdout",
     "output_type": "stream",
     "text": [
      "Optimization terminated successfully.\n",
      "         Current function value: 0.508588\n",
      "         Iterations 6\n"
     ]
    },
    {
     "data": {
      "text/html": [
       "<table class=\"simpletable\">\n",
       "<caption>Logit Regression Results</caption>\n",
       "<tr>\n",
       "  <th>Dep. Variable:</th>     <td>PoorCare</td>     <th>  No. Observations:  </th>  <td>    97</td> \n",
       "</tr>\n",
       "<tr>\n",
       "  <th>Model:</th>               <td>Logit</td>      <th>  Df Residuals:      </th>  <td>    94</td> \n",
       "</tr>\n",
       "<tr>\n",
       "  <th>Method:</th>               <td>MLE</td>       <th>  Df Model:          </th>  <td>     2</td> \n",
       "</tr>\n",
       "<tr>\n",
       "  <th>Date:</th>          <td>Wed, 04 May 2016</td> <th>  Pseudo R-squ.:     </th>  <td>0.09097</td>\n",
       "</tr>\n",
       "<tr>\n",
       "  <th>Time:</th>              <td>21:55:31</td>     <th>  Log-Likelihood:    </th> <td> -49.333</td>\n",
       "</tr>\n",
       "<tr>\n",
       "  <th>converged:</th>           <td>True</td>       <th>  LL-Null:           </th> <td> -54.270</td>\n",
       "</tr>\n",
       "<tr>\n",
       "  <th> </th>                      <td> </td>        <th>  LLR p-value:       </th> <td>0.007175</td>\n",
       "</tr>\n",
       "</table>\n",
       "<table class=\"simpletable\">\n",
       "<tr>\n",
       "                <td></td>                  <th>coef</th>     <th>std err</th>      <th>z</th>      <th>P>|z|</th> <th>[95.0% Conf. Int.]</th> \n",
       "</tr>\n",
       "<tr>\n",
       "  <th>Intercept</th>                    <td>   -1.9560</td> <td>    0.502</td> <td>   -3.894</td> <td> 0.000</td> <td>   -2.941    -0.971</td>\n",
       "</tr>\n",
       "<tr>\n",
       "  <th>StartedOnCombination[T.True]</th> <td>    2.4717</td> <td>    1.172</td> <td>    2.108</td> <td> 0.035</td> <td>    0.174     4.770</td>\n",
       "</tr>\n",
       "<tr>\n",
       "  <th>ProviderCount</th>                <td>    0.0285</td> <td>    0.018</td> <td>    1.628</td> <td> 0.104</td> <td>   -0.006     0.063</td>\n",
       "</tr>\n",
       "</table>"
      ],
      "text/plain": [
       "<class 'statsmodels.iolib.summary.Summary'>\n",
       "\"\"\"\n",
       "                           Logit Regression Results                           \n",
       "==============================================================================\n",
       "Dep. Variable:               PoorCare   No. Observations:                   97\n",
       "Model:                          Logit   Df Residuals:                       94\n",
       "Method:                           MLE   Df Model:                            2\n",
       "Date:                Wed, 04 May 2016   Pseudo R-squ.:                 0.09097\n",
       "Time:                        21:55:31   Log-Likelihood:                -49.333\n",
       "converged:                       True   LL-Null:                       -54.270\n",
       "                                        LLR p-value:                  0.007175\n",
       "================================================================================================\n",
       "                                   coef    std err          z      P>|z|      [95.0% Conf. Int.]\n",
       "------------------------------------------------------------------------------------------------\n",
       "Intercept                       -1.9560      0.502     -3.894      0.000        -2.941    -0.971\n",
       "StartedOnCombination[T.True]     2.4717      1.172      2.108      0.035         0.174     4.770\n",
       "ProviderCount                    0.0285      0.018      1.628      0.104        -0.006     0.063\n",
       "================================================================================================\n",
       "\"\"\""
      ]
     },
     "execution_count": 26,
     "metadata": {},
     "output_type": "execute_result"
    }
   ],
   "source": [
    "qualityTrain['Intercept'] = 1\n",
    "QualityLog = sm.logit(formula=\"PoorCare ~ StartedOnCombination + ProviderCount\", data=qualityTrain).fit()\n",
    "QualityLog.summary()"
   ]
  },
  {
   "cell_type": "code",
   "execution_count": 11,
   "metadata": {
    "collapsed": false
   },
   "outputs": [
    {
     "data": {
      "text/html": [
       "<table class=\"simpletable\">\n",
       "<caption>Logit Regression Results</caption>\n",
       "<tr>\n",
       "  <th>Dep. Variable:</th>     <td>PoorCare</td>     <th>  No. Observations:  </th>  <td>    98</td> \n",
       "</tr>\n",
       "<tr>\n",
       "  <th>Model:</th>               <td>Logit</td>      <th>  Df Residuals:      </th>  <td>    95</td> \n",
       "</tr>\n",
       "<tr>\n",
       "  <th>Method:</th>               <td>MLE</td>       <th>  Df Model:          </th>  <td>     2</td> \n",
       "</tr>\n",
       "<tr>\n",
       "  <th>Date:</th>          <td>Wed, 04 May 2016</td> <th>  Pseudo R-squ.:     </th>  <td>0.03631</td>\n",
       "</tr>\n",
       "<tr>\n",
       "  <th>Time:</th>              <td>21:45:17</td>     <th>  Log-Likelihood:    </th> <td> -53.631</td>\n",
       "</tr>\n",
       "<tr>\n",
       "  <th>converged:</th>           <td>True</td>       <th>  LL-Null:           </th> <td> -55.651</td>\n",
       "</tr>\n",
       "<tr>\n",
       "  <th> </th>                      <td> </td>        <th>  LLR p-value:       </th>  <td>0.1325</td> \n",
       "</tr>\n",
       "</table>\n",
       "<table class=\"simpletable\">\n",
       "<tr>\n",
       "                <td></td>                  <th>coef</th>     <th>std err</th>      <th>z</th>      <th>P>|z|</th> <th>[95.0% Conf. Int.]</th> \n",
       "</tr>\n",
       "<tr>\n",
       "  <th>Intercept</th>                    <td>   -1.8626</td> <td>    0.491</td> <td>   -3.795</td> <td> 0.000</td> <td>   -2.825    -0.901</td>\n",
       "</tr>\n",
       "<tr>\n",
       "  <th>StartedOnCombination[T.True]</th> <td>    0.2023</td> <td>    1.597</td> <td>    0.127</td> <td> 0.899</td> <td>   -2.928     3.333</td>\n",
       "</tr>\n",
       "<tr>\n",
       "  <th>ProviderCount</th>                <td>    0.0302</td> <td>    0.016</td> <td>    1.851</td> <td> 0.064</td> <td>   -0.002     0.062</td>\n",
       "</tr>\n",
       "</table>"
      ],
      "text/plain": [
       "<class 'statsmodels.iolib.summary.Summary'>\n",
       "\"\"\"\n",
       "                           Logit Regression Results                           \n",
       "==============================================================================\n",
       "Dep. Variable:               PoorCare   No. Observations:                   98\n",
       "Model:                          Logit   Df Residuals:                       95\n",
       "Method:                           MLE   Df Model:                            2\n",
       "Date:                Wed, 04 May 2016   Pseudo R-squ.:                 0.03631\n",
       "Time:                        21:45:17   Log-Likelihood:                -53.631\n",
       "converged:                       True   LL-Null:                       -55.651\n",
       "                                        LLR p-value:                    0.1325\n",
       "================================================================================================\n",
       "                                   coef    std err          z      P>|z|      [95.0% Conf. Int.]\n",
       "------------------------------------------------------------------------------------------------\n",
       "Intercept                       -1.8626      0.491     -3.795      0.000        -2.825    -0.901\n",
       "StartedOnCombination[T.True]     0.2023      1.597      0.127      0.899        -2.928     3.333\n",
       "ProviderCount                    0.0302      0.016      1.851      0.064        -0.002     0.062\n",
       "================================================================================================\n",
       "\"\"\""
      ]
     },
     "execution_count": 11,
     "metadata": {},
     "output_type": "execute_result"
    }
   ],
   "source": [
    "QualityLog.summary()"
   ]
  },
  {
   "cell_type": "code",
   "execution_count": null,
   "metadata": {
    "collapsed": true
   },
   "outputs": [],
   "source": []
  }
 ],
 "metadata": {
  "kernelspec": {
   "display_name": "Python 3",
   "language": "python",
   "name": "python3"
  },
  "language_info": {
   "codemirror_mode": {
    "name": "ipython",
    "version": 3
   },
   "file_extension": ".py",
   "mimetype": "text/x-python",
   "name": "python",
   "nbconvert_exporter": "python",
   "pygments_lexer": "ipython3",
   "version": "3.5.1"
  }
 },
 "nbformat": 4,
 "nbformat_minor": 0
}
