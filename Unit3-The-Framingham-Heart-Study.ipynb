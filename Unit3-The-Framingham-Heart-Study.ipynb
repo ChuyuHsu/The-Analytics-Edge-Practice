{
 "cells": [
  {
   "cell_type": "code",
   "execution_count": 8,
   "metadata": {
    "collapsed": false
   },
   "outputs": [],
   "source": [
    "import pandas as pd\n",
    "import numpy as np\n",
    "import statsmodels.formula.api as sm\n",
    "%matplotlib inline"
   ]
  },
  {
   "cell_type": "code",
   "execution_count": 3,
   "metadata": {
    "collapsed": true
   },
   "outputs": [],
   "source": [
    "framingham = pd.read_csv(\"/Users/zoetsai/Downloads/framingham.csv\")"
   ]
  },
  {
   "cell_type": "code",
   "execution_count": 5,
   "metadata": {
    "collapsed": false
   },
   "outputs": [],
   "source": [
    "def dfStr(df):\n",
    "    print(\"The dataframe contains {0} rows and {1} columns\".format(df.shape[0], df.shape[1]))\n",
    "    print(\"The data types of columns are: n\")\n",
    "    print(df.dtypes)"
   ]
  },
  {
   "cell_type": "code",
   "execution_count": 6,
   "metadata": {
    "collapsed": false
   },
   "outputs": [
    {
     "name": "stdout",
     "output_type": "stream",
     "text": [
      "The dataframe contains 4240 rows and 16 columns\n",
      "The data types of columns are: n\n",
      "male                 int64\n",
      "age                  int64\n",
      "education          float64\n",
      "currentSmoker        int64\n",
      "cigsPerDay         float64\n",
      "BPMeds             float64\n",
      "prevalentStroke      int64\n",
      "prevalentHyp         int64\n",
      "diabetes             int64\n",
      "totChol            float64\n",
      "sysBP              float64\n",
      "diaBP              float64\n",
      "BMI                float64\n",
      "heartRate          float64\n",
      "glucose            float64\n",
      "TenYearCHD           int64\n",
      "dtype: object\n"
     ]
    }
   ],
   "source": [
    "dfStr(framingham)"
   ]
  },
  {
   "cell_type": "code",
   "execution_count": 9,
   "metadata": {
    "collapsed": false
   },
   "outputs": [
    {
     "name": "stderr",
     "output_type": "stream",
     "text": [
      "/Users/zoetsai/anaconda3/lib/python3.5/site-packages/ipykernel/__main__.py:4: FutureWarning: convert_objects is deprecated.  Use the data-type specific converters pd.to_datetime, pd.to_timedelta and pd.to_numeric.\n",
      "/Users/zoetsai/anaconda3/lib/python3.5/site-packages/ipykernel/__main__.py:5: FutureWarning: convert_objects is deprecated.  Use the data-type specific converters pd.to_datetime, pd.to_timedelta and pd.to_numeric.\n"
     ]
    }
   ],
   "source": [
    "from sklearn.cross_validation import train_test_split\n",
    "train0, test0 = train_test_split(framingham.loc[framingham['TenYearCHD'] == 0,:], train_size=0.65, random_state=1000)\n",
    "train1, test1 = train_test_split(framingham.loc[framingham['TenYearCHD'] == 1,:], train_size=0.65, random_state=1000)\n",
    "framinghamTrain = pd.DataFrame(np.vstack((train0,train1)), columns=framingham.columns).convert_objects(convert_numeric=True)\n",
    "framinghamTest = pd.DataFrame(np.vstack((test0,test1)), columns=framingham.columns).convert_objects(convert_numeric=True)"
   ]
  },
  {
   "cell_type": "code",
   "execution_count": 12,
   "metadata": {
    "collapsed": true
   },
   "outputs": [],
   "source": [
    "predictors = framinghamTrain.columns.tolist()\n",
    "predictors.remove('TenYearCHD')\n",
    "from sklearn.preprocessing import Imputer\n",
    "imp = Imputer(missing_values='NaN', strategy='mean', axis=0)\n",
    "imp.fit(framinghamTrain[predictors])\n",
    "X = imp.transform(framinghamTrain[predictors])\n",
    "y = framinghamTrain['TenYearCHD']"
   ]
  },
  {
   "cell_type": "code",
   "execution_count": 13,
   "metadata": {
    "collapsed": false
   },
   "outputs": [
    {
     "data": {
      "text/plain": [
       "LogisticRegression(C=1.0, class_weight=None, dual=False, fit_intercept=True,\n",
       "          intercept_scaling=1, max_iter=100, multi_class='ovr', n_jobs=1,\n",
       "          penalty='l1', random_state=None, solver='liblinear', tol=1e-06,\n",
       "          verbose=0, warm_start=False)"
      ]
     },
     "execution_count": 13,
     "metadata": {},
     "output_type": "execute_result"
    }
   ],
   "source": [
    "from sklearn.linear_model import LogisticRegression\n",
    "framinghamLog = LogisticRegression(penalty='l1', tol=1e-6)\n",
    "framinghamLog.fit(X, y)"
   ]
  },
  {
   "cell_type": "code",
   "execution_count": 14,
   "metadata": {
    "collapsed": true
   },
   "outputs": [],
   "source": [
    "imp = Imputer(missing_values='NaN', strategy='mean', axis=0)\n",
    "imp.fit(framinghamTest[predictors])\n",
    "Xtest = imp.transform(framinghamTest[predictors])\n",
    "ytest = framinghamTest['TenYearCHD']\n",
    "predictTest = framinghamLog.predict(Xtest)"
   ]
  },
  {
   "cell_type": "code",
   "execution_count": 16,
   "metadata": {
    "collapsed": false
   },
   "outputs": [
    {
     "name": "stdout",
     "output_type": "stream",
     "text": [
      "[[1249   10]\n",
      " [ 208   18]]\n"
     ]
    }
   ],
   "source": [
    "from sklearn.metrics import confusion_matrix\n",
    "print(confusion_matrix(ytest==1, predictTest >= 0.5))"
   ]
  },
  {
   "cell_type": "code",
   "execution_count": 23,
   "metadata": {
    "collapsed": false
   },
   "outputs": [
    {
     "name": "stdout",
     "output_type": "stream",
     "text": [
      "('male', 0.3683800172151044)\n",
      "('age', 0.06251021786713819)\n",
      "('education', -0.052718680607569714)\n",
      "('currentSmoker', 0.031775051434933324)\n",
      "('cigsPerDay', 0.020673472278317385)\n",
      "('BPMeds', 0.21176995814005264)\n",
      "('prevalentStroke', 0.24139462253618732)\n",
      "('prevalentHyp', 0.33152560729751085)\n",
      "('diabetes', 0.043853193756420154)\n",
      "('totChol', 0.0007209523880071466)\n",
      "('sysBP', 0.014670174621243525)\n",
      "('diaBP', -0.005872589436499207)\n",
      "('BMI', 0.0002778333926823566)\n",
      "('heartRate', -0.005754989325194048)\n",
      "('glucose', 0.009823503517720412)\n"
     ]
    }
   ],
   "source": [
    "for t in zip(predictors, framinghamLog.coef_.tolist()[0]):\n",
    "    print(t)"
   ]
  },
  {
   "cell_type": "code",
   "execution_count": null,
   "metadata": {
    "collapsed": true
   },
   "outputs": [],
   "source": []
  }
 ],
 "metadata": {
  "kernelspec": {
   "display_name": "Python 3",
   "language": "python",
   "name": "python3"
  },
  "language_info": {
   "codemirror_mode": {
    "name": "ipython",
    "version": 3
   },
   "file_extension": ".py",
   "mimetype": "text/x-python",
   "name": "python",
   "nbconvert_exporter": "python",
   "pygments_lexer": "ipython3",
   "version": "3.5.1"
  }
 },
 "nbformat": 4,
 "nbformat_minor": 0
}
